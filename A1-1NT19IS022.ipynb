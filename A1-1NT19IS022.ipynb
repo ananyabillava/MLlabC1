{
 "cells": [
  {
   "cell_type": "code",
   "execution_count": 1,
   "metadata": {},
   "outputs": [
    {
     "name": "stdout",
     "output_type": "stream",
     "text": [
      "Ananya Billava\n"
     ]
    }
   ],
   "source": [
    "#print name\n",
    "print(\"Ananya Billava\")"
   ]
  },
  {
   "cell_type": "code",
   "execution_count": 2,
   "metadata": {},
   "outputs": [
    {
     "name": "stdout",
     "output_type": "stream",
     "text": [
      "Enter number 1:26\n",
      "Enter number 2:34\n",
      "Sum =  60\n"
     ]
    }
   ],
   "source": [
    "#addition of numbers\n",
    "a=int(input(\"Enter number 1:\"))\n",
    "b=int(input(\"Enter number 2:\"))\n",
    "print(\"Sum = \",(a+b))"
   ]
  },
  {
   "cell_type": "code",
   "execution_count": 3,
   "metadata": {},
   "outputs": [
    {
     "data": {
      "text/plain": [
       "25"
      ]
     },
     "execution_count": 3,
     "metadata": {},
     "output_type": "execute_result"
    }
   ],
   "source": [
    "round(24.573)"
   ]
  },
  {
   "cell_type": "code",
   "execution_count": 4,
   "metadata": {},
   "outputs": [
    {
     "data": {
      "text/plain": [
       "int"
      ]
     },
     "execution_count": 4,
     "metadata": {},
     "output_type": "execute_result"
    }
   ],
   "source": [
    "type(34)"
   ]
  },
  {
   "cell_type": "code",
   "execution_count": 5,
   "metadata": {},
   "outputs": [
    {
     "data": {
      "text/plain": [
       "tuple"
      ]
     },
     "execution_count": 5,
     "metadata": {},
     "output_type": "execute_result"
    }
   ],
   "source": [
    "type((12,23,42))"
   ]
  },
  {
   "cell_type": "code",
   "execution_count": 6,
   "metadata": {},
   "outputs": [
    {
     "data": {
      "text/plain": [
       "list"
      ]
     },
     "execution_count": 6,
     "metadata": {},
     "output_type": "execute_result"
    }
   ],
   "source": [
    "type([12,23,34])"
   ]
  },
  {
   "cell_type": "code",
   "execution_count": 7,
   "metadata": {},
   "outputs": [
    {
     "name": "stdout",
     "output_type": "stream",
     "text": [
      "1\n",
      "2\n",
      "3\n",
      "4\n",
      "5\n",
      "6\n",
      "7\n",
      "8\n",
      "9\n"
     ]
    }
   ],
   "source": [
    "x=1\n",
    "while x<10:\n",
    "    print(x)\n",
    "    x=x+1"
   ]
  },
  {
   "cell_type": "code",
   "execution_count": 9,
   "metadata": {},
   "outputs": [
    {
     "data": {
      "text/plain": [
       "'Ananya'"
      ]
     },
     "execution_count": 9,
     "metadata": {},
     "output_type": "execute_result"
    }
   ],
   "source": [
    "str=\"ananya\"\n",
    "str.capitalize()"
   ]
  },
  {
   "cell_type": "code",
   "execution_count": 12,
   "metadata": {},
   "outputs": [
    {
     "name": "stdout",
     "output_type": "stream",
     "text": [
      "Before swapping:\n",
      "X is: 3 Y is: 5\n",
      "After swapping:\n",
      "X is: 5 Y is: 3\n"
     ]
    }
   ],
   "source": [
    "#swapping of numbers\n",
    "x=3\n",
    "y=5\n",
    "print(\"Before swapping:\")\n",
    "print(\"X is:\",x,\"Y is:\",y)\n",
    "x,y=y,x\n",
    "print(\"After swapping:\")\n",
    "print(\"X is:\",x,\"Y is:\",y)"
   ]
  },
  {
   "cell_type": "code",
   "execution_count": 13,
   "metadata": {},
   "outputs": [
    {
     "name": "stdout",
     "output_type": "stream",
     "text": [
      "Enter the size of array:4\n",
      "12\n",
      "56\n",
      "1\n",
      "423\n",
      "Enter the search key:1\n",
      "Element found at position  3\n"
     ]
    }
   ],
   "source": [
    "#linear search\n",
    "arr =[]\n",
    "n=int(input(\"Enter the size of array:\"))\n",
    "for i in range(0,n):\n",
    "    ele=int(input())\n",
    "    arr.append(ele)\n",
    "key=int(input(\"Enter the search key:\"))\n",
    "for i in range(0,n):\n",
    "    if(arr[i]==key):\n",
    "        print(\"Element found at position \",(i+1))\n",
    "        break"
   ]
  },
  {
   "cell_type": "code",
   "execution_count": 14,
   "metadata": {},
   "outputs": [
    {
     "name": "stdout",
     "output_type": "stream",
     "text": [
      "Enter the size of array:4\n",
      "4\n",
      "23\n",
      "78\n",
      "34\n",
      "[4, 23, 34, 78]\n"
     ]
    }
   ],
   "source": [
    "#selection sort\n",
    "arr =[]\n",
    "n=int(input(\"Enter the size of array:\"))\n",
    "for i in range(0,n):\n",
    "    ele=int(input())\n",
    "    arr.append(ele)\n",
    "\n",
    "pos=-1\n",
    "for i in range(0,n):\n",
    "    pos=i\n",
    "    for j in range(i+1,n):\n",
    "        if(arr[j]<arr[pos]):\n",
    "            pos=j\n",
    "    if(pos!=i):\n",
    "        temp=arr[i]\n",
    "        arr[i]=arr[pos]\n",
    "        arr[pos]=temp\n",
    "        \n",
    "print(arr)"
   ]
  },
  {
   "cell_type": "code",
   "execution_count": 24,
   "metadata": {},
   "outputs": [
    {
     "name": "stdout",
     "output_type": "stream",
     "text": [
      "Enter the size of array:4\n",
      "12\n",
      "56\n",
      "45\n",
      "23\n",
      "[12, 23, 45, 56]\n"
     ]
    }
   ],
   "source": [
    "#bubble sort\n",
    "arr =[]\n",
    "n=int(input(\"Enter the size of array:\"))\n",
    "for i in range(0,n):\n",
    "    ele=int(input())\n",
    "    arr.append(ele)\n",
    "for i in range(n-1):\n",
    "        for j in range(n-i-1):\n",
    "            if(arr[j] > arr[j + 1]):\n",
    "                temp = arr[j]\n",
    "                arr[j] = arr[j + 1]\n",
    "                arr[j + 1] = temp\n",
    "print(arr)"
   ]
  },
  {
   "cell_type": "code",
   "execution_count": 15,
   "metadata": {},
   "outputs": [
    {
     "name": "stdout",
     "output_type": "stream",
     "text": [
      "Enter the size of array:4\n",
      "12\n",
      "45\n",
      "3\n",
      "66\n",
      "Enter the search key:3\n",
      "Element found at position  3\n"
     ]
    }
   ],
   "source": [
    "#binary search\n",
    "arr =[]\n",
    "n=int(input(\"Enter the size of array:\"))\n",
    "for i in range(0,n):\n",
    "    ele=int(input())\n",
    "    arr.append(ele)\n",
    "key=int(input(\"Enter the search key:\"))\n",
    "l=0\n",
    "h=n\n",
    "while(l<=h):\n",
    "    mid=(int)((l+h)/2)\n",
    "    if(arr[mid]==key):\n",
    "        print(\"Element found at position \",(mid+1))\n",
    "        break\n",
    "    elif(key>arr[mid]):\n",
    "        l=mid+1\n",
    "    else:\n",
    "        h=mid-1"
   ]
  },
  {
   "cell_type": "code",
   "execution_count": 7,
   "metadata": {},
   "outputs": [
    {
     "name": "stdout",
     "output_type": "stream",
     "text": [
      "MEAN: 120.8\n"
     ]
    }
   ],
   "source": [
    "#mean\n",
    "def mean(list):   \n",
    "    sum=0\n",
    "    for i in list:\n",
    "        sum=sum+i\n",
    "    mean=sum/len(list)\n",
    "    return mean\n",
    "list = [115,195,120,110,90,105,110,116,122,125]\n",
    "print(\"MEAN:\",mean(list))"
   ]
  },
  {
   "cell_type": "code",
   "execution_count": 5,
   "metadata": {},
   "outputs": [
    {
     "name": "stdout",
     "output_type": "stream",
     "text": [
      "MEDIAN: 105\n"
     ]
    }
   ],
   "source": [
    "#median\n",
    "def median(l1):\n",
    "    i=int(len(l1)/2)\n",
    "    if i%2==0:\n",
    "        res=(l1[i]+l1[i+1])/2\n",
    "    else:\n",
    "        res=l1[i]\n",
    "    return res\n",
    "l1 = [115,195,120,110,90,105,110,116,122,12]\n",
    "print(\"MEDIAN:\",median(l1))"
   ]
  },
  {
   "cell_type": "code",
   "execution_count": 10,
   "metadata": {},
   "outputs": [
    {
     "name": "stdout",
     "output_type": "stream",
     "text": [
      "MODE: 110\n"
     ]
    }
   ],
   "source": [
    "#mode\n",
    "l1 = [115,120,110,90,105,110,116,122,125]\n",
    "d={}\n",
    "for i in l1:\n",
    "    if i in d:\n",
    "        d[i]=d[i]+1\n",
    "    else:\n",
    "        d[i]=1\n",
    "maxi=0\n",
    "for i in d:\n",
    "    if(d[i]>maxi):\n",
    "        maxi=d[i]\n",
    "        ans=i\n",
    "print(\"MODE:\",ans)"
   ]
  },
  {
   "cell_type": "code",
   "execution_count": 18,
   "metadata": {},
   "outputs": [
    {
     "name": "stdout",
     "output_type": "stream",
     "text": [
      "VARIANCE: 1001.9591836734693\n"
     ]
    }
   ],
   "source": [
    "#variance\n",
    "def var(l):\n",
    "    ans = mean(l)\n",
    "    sum1=0\n",
    "    for i in l:\n",
    "        sum1+=(ans-i)**2\n",
    "    return sum1/len(l)\n",
    "l=[100,115,90,125,195,122,111]\n",
    "print(\"VARIANCE:\",var(l))"
   ]
  },
  {
   "cell_type": "code",
   "execution_count": 20,
   "metadata": {},
   "outputs": [
    {
     "name": "stdout",
     "output_type": "stream",
     "text": [
      "STANDARD DEVIATION:  29.634949892011644\n"
     ]
    }
   ],
   "source": [
    "#standard deviation\n",
    "def sd(l):\n",
    "    temp = var(l)\n",
    "    return temp**0.5\n",
    "\n",
    "\n",
    "\n",
    "a = [115.3, 195.5, 120, 110.2, 90, 105.6, 110.9,120,195.5,115.3, 116.3, 122.3, 125.4,120]\n",
    "print(\"STANDARD DEVIATION: \",sd(a))"
   ]
  }
 ],
 "metadata": {
  "kernelspec": {
   "display_name": "Python 3",
   "language": "python",
   "name": "python3"
  },
  "language_info": {
   "codemirror_mode": {
    "name": "ipython",
    "version": 3
   },
   "file_extension": ".py",
   "mimetype": "text/x-python",
   "name": "python",
   "nbconvert_exporter": "python",
   "pygments_lexer": "ipython3",
   "version": "3.7.6"
  }
 },
 "nbformat": 4,
 "nbformat_minor": 4
}
